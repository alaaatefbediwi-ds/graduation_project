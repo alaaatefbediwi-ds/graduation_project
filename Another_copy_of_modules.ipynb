{
  "nbformat": 4,
  "nbformat_minor": 0,
  "metadata": {
    "colab": {
      "provenance": [],
      "collapsed_sections": [
        "43FeJp-r-wwt"
      ],
      "authorship_tag": "ABX9TyO2NPTUmU8JfNenCXImLe9b",
      "include_colab_link": true
    },
    "kernelspec": {
      "name": "python3",
      "display_name": "Python 3"
    },
    "language_info": {
      "name": "python"
    }
  },
  "cells": [
    {
      "cell_type": "markdown",
      "metadata": {
        "id": "view-in-github",
        "colab_type": "text"
      },
      "source": [
        "<a href=\"https://colab.research.google.com/github/alaaatefbediwi-ds/graduation_project/blob/main/Another_copy_of_modules.ipynb\" target=\"_parent\"><img src=\"https://colab.research.google.com/assets/colab-badge.svg\" alt=\"Open In Colab\"/></a>"
      ]
    },
    {
      "cell_type": "markdown",
      "source": [
        "### **mediscan_ai folder**"
      ],
      "metadata": {
        "id": "b8eWk0hRRqLz"
      }
    },
    {
      "cell_type": "code",
      "execution_count": 1,
      "metadata": {
        "colab": {
          "base_uri": "https://localhost:8080/"
        },
        "id": "Nmcky99R9gDV",
        "outputId": "7a7b306b-7693-4e4d-d441-ae04871c5a6b"
      },
      "outputs": [
        {
          "output_type": "stream",
          "name": "stdout",
          "text": [
            " Folder structure created.\n"
          ]
        }
      ],
      "source": [
        "# Creating folder structure\n",
        "import os\n",
        "\n",
        "base_path = \"/content/mediscan_ai\"\n",
        "folders = [\n",
        "    f\"{base_path}/data\",\n",
        "    f\"{base_path}/models\",\n",
        "    f\"{base_path}/app\"\n",
        "]\n",
        "\n",
        "for folder in folders:\n",
        "    os.makedirs(folder, exist_ok=True)\n",
        "\n",
        "print(\" Folder structure created.\")"
      ]
    },
    {
      "cell_type": "markdown",
      "source": [
        "### **preprocessing.py**"
      ],
      "metadata": {
        "id": "DSehLmO6eHnZ"
      }
    },
    {
      "cell_type": "code",
      "source": [
        "#  Step 2: Create preprocessing.py\n",
        "preprocessing_code = '''\n",
        "# preprocessing.py\n",
        "\n",
        "from sklearn.pipeline import Pipeline\n",
        "from sklearn.impute import SimpleImputer\n",
        "from sklearn.preprocessing import StandardScaler, OneHotEncoder\n",
        "from sklearn.compose import ColumnTransformer\n",
        "\n",
        "# Feature lists\n",
        "numeric_features = [\n",
        "    'Age', 'Height', 'Weight', 'Body Mass Index (BMI)', 'Total Body Water (TBW)',\n",
        "    'Extracellular Water (ECW)', 'Intracellular Water (ICW)',\n",
        "    'Extracellular Fluid/Total Body Water (ECF/TBW)',\n",
        "    'Total Body Fat Ratio (TBFR) (%)', 'Lean Mass (LM) (%)',\n",
        "    'Body Protein Content (Protein) (%)', 'Visceral Fat Rating (VFR)',\n",
        "    'Bone Mass (BM)', 'Muscle Mass (MM)', 'Obesity (%)',\n",
        "    'Total Fat Content (TFC)', 'Visceral Fat Area (VFA)',\n",
        "    'Visceral Muscle Area (VMA) (Kg)', 'Hepatic Fat Accumulation (HFA)',\n",
        "    'Glucose', 'Total Cholesterol (TC)', 'Low Density Lipoprotein (LDL)',\n",
        "    'High Density Lipoprotein (HDL)', 'Triglyceride',\n",
        "    'Aspartat Aminotransferaz (AST)', 'Alanin Aminotransferaz (ALT)',\n",
        "    'Alkaline Phosphatase (ALP)', 'Creatinine', 'Glomerular Filtration Rate (GFR)',\n",
        "    'C-Reactive Protein (CRP)', 'Hemoglobin (HGB)', 'Vitamin D'\n",
        "]\n",
        "\n",
        "# Split categorical features based on fill strategy\n",
        "fill_zero_features = ['Comorbidity', 'Diabetes Mellitus (DM)']\n",
        "fill_most_frequent_features = ['Gender']\n",
        "categorical_features = fill_zero_features + fill_most_frequent_features\n",
        "\n",
        "# Pipelines\n",
        "numeric_transformer = Pipeline(steps=[\n",
        "    (\"imputer\", SimpleImputer(strategy=\"mean\")),\n",
        "    (\"scaler\", StandardScaler())\n",
        "])\n",
        "\n",
        "# Gender or other categorical features filled with most frequent and then one-hot encoded\n",
        "cat_most_freq_transformer = Pipeline(steps=[\n",
        "    (\"imputer\", SimpleImputer(strategy=\"most_frequent\")),\n",
        "    (\"encoder\", OneHotEncoder(handle_unknown='ignore')) #, sparse=False))\n",
        "])\n",
        "\n",
        "# Comorbidity & DM: filled with zero and then one-hot encoded\n",
        "cat_zero_fill_transformer = Pipeline(steps=[\n",
        "    (\"imputer\", SimpleImputer(strategy=\"constant\", fill_value=0)),\n",
        "    (\"encoder\", OneHotEncoder(handle_unknown='ignore')) #, sparse=False))\n",
        "])\n",
        "\n",
        "# Combined preprocessor\n",
        "preprocessor = ColumnTransformer(transformers=[\n",
        "    (\"num\", numeric_transformer, numeric_features),\n",
        "    (\"cat_mostfreq\", cat_most_freq_transformer, fill_most_frequent_features),\n",
        "    (\"cat_zerofill\", cat_zero_fill_transformer, fill_zero_features)\n",
        "])\n",
        "\n",
        "#categorical_features = fill_zero_features + fill_most_frequent_features\n",
        "'''\n",
        "\n",
        "with open(\"/content/mediscan_ai/app/preprocessing.py\", \"w\") as f:\n",
        "    f.write(preprocessing_code)\n",
        "\n",
        "print(\" preprocessing.py created.\")"
      ],
      "metadata": {
        "colab": {
          "base_uri": "https://localhost:8080/"
        },
        "id": "q4SWdh_geLAS",
        "outputId": "1164aead-d810-4080-dbbd-4a1527a104ad"
      },
      "execution_count": 2,
      "outputs": [
        {
          "output_type": "stream",
          "name": "stdout",
          "text": [
            " preprocessing.py created.\n"
          ]
        }
      ]
    },
    {
      "cell_type": "markdown",
      "source": [
        "### **train_model.py**"
      ],
      "metadata": {
        "id": "-6z_97N8dmVH"
      }
    },
    {
      "cell_type": "code",
      "source": [
        "#  Step 3: Create train_model.py\n",
        "train_model_code = '''\n",
        "# train_model.py\n",
        "\n",
        "import pandas as pd\n",
        "from sklearn.model_selection import train_test_split\n",
        "from catboost import CatBoostClassifier\n",
        "from sklearn.pipeline import Pipeline\n",
        "import joblib\n",
        "import os\n",
        "\n",
        "from preprocessing import preprocessor, numeric_features, categorical_features\n",
        "\n",
        "# Load data\n",
        "data = pd.read_excel('/content/Gallstone.xlsx')\n",
        "\n",
        "#  Reverse the label so that:\n",
        "# 1 → Has Gallstone, 0 → No Gallstone (more intuitive)\n",
        "#data['Gallstone Status'] = data['Gallstone Status'].map({0: 1, 1: 0})\n",
        "\n",
        "# Features and target\n",
        "X = data[numeric_features + categorical_features]\n",
        "y = data['Gallstone Status']\n",
        "\n",
        "# Train/test split\n",
        "X_train, X_test, y_train, y_test = train_test_split(X, y, test_size=0.3, random_state=42)\n",
        "\n",
        "# Full pipeline with model\n",
        "full_pipeline = Pipeline(steps=[\n",
        "    (\"preprocessor\", preprocessor),\n",
        "    (\"classifier\", CatBoostClassifier(verbose=0, random_state=42))\n",
        "])\n",
        "\n",
        "# Train\n",
        "full_pipeline.fit(X_train, y_train)\n",
        "\n",
        "# Save the pipeline\n",
        "os.makedirs('/content/mediscan_ai/models', exist_ok=True)\n",
        "joblib.dump(full_pipeline, '/content/mediscan_ai/models/gallstone_model.pkl')\n",
        "\n",
        "print(\"Model pipeline saved successfully.\")\n",
        "'''\n",
        "\n",
        "with open(\"/content/mediscan_ai/app/train_model.py\", \"w\") as f:\n",
        "    f.write(train_model_code)\n",
        "\n",
        "print(\"train_model.py created.\")"
      ],
      "metadata": {
        "colab": {
          "base_uri": "https://localhost:8080/"
        },
        "id": "fYsnhV4Kdl6O",
        "outputId": "dd395be2-595e-43f3-e098-b292f9044e3d"
      },
      "execution_count": 3,
      "outputs": [
        {
          "output_type": "stream",
          "name": "stdout",
          "text": [
            "train_model.py created.\n"
          ]
        }
      ]
    },
    {
      "cell_type": "code",
      "source": [
        "!pip install catboost"
      ],
      "metadata": {
        "colab": {
          "base_uri": "https://localhost:8080/"
        },
        "collapsed": true,
        "id": "3UPor-wI3UHy",
        "outputId": "268d2f92-0cc0-460e-cdee-b8b3027f9ff4"
      },
      "execution_count": 4,
      "outputs": [
        {
          "output_type": "stream",
          "name": "stdout",
          "text": [
            "Collecting catboost\n",
            "  Downloading catboost-1.2.8-cp311-cp311-manylinux2014_x86_64.whl.metadata (1.2 kB)\n",
            "Requirement already satisfied: graphviz in /usr/local/lib/python3.11/dist-packages (from catboost) (0.20.3)\n",
            "Requirement already satisfied: matplotlib in /usr/local/lib/python3.11/dist-packages (from catboost) (3.10.0)\n",
            "Requirement already satisfied: numpy<3.0,>=1.16.0 in /usr/local/lib/python3.11/dist-packages (from catboost) (2.0.2)\n",
            "Requirement already satisfied: pandas>=0.24 in /usr/local/lib/python3.11/dist-packages (from catboost) (2.2.2)\n",
            "Requirement already satisfied: scipy in /usr/local/lib/python3.11/dist-packages (from catboost) (1.15.3)\n",
            "Requirement already satisfied: plotly in /usr/local/lib/python3.11/dist-packages (from catboost) (5.24.1)\n",
            "Requirement already satisfied: six in /usr/local/lib/python3.11/dist-packages (from catboost) (1.17.0)\n",
            "Requirement already satisfied: python-dateutil>=2.8.2 in /usr/local/lib/python3.11/dist-packages (from pandas>=0.24->catboost) (2.9.0.post0)\n",
            "Requirement already satisfied: pytz>=2020.1 in /usr/local/lib/python3.11/dist-packages (from pandas>=0.24->catboost) (2025.2)\n",
            "Requirement already satisfied: tzdata>=2022.7 in /usr/local/lib/python3.11/dist-packages (from pandas>=0.24->catboost) (2025.2)\n",
            "Requirement already satisfied: contourpy>=1.0.1 in /usr/local/lib/python3.11/dist-packages (from matplotlib->catboost) (1.3.2)\n",
            "Requirement already satisfied: cycler>=0.10 in /usr/local/lib/python3.11/dist-packages (from matplotlib->catboost) (0.12.1)\n",
            "Requirement already satisfied: fonttools>=4.22.0 in /usr/local/lib/python3.11/dist-packages (from matplotlib->catboost) (4.58.1)\n",
            "Requirement already satisfied: kiwisolver>=1.3.1 in /usr/local/lib/python3.11/dist-packages (from matplotlib->catboost) (1.4.8)\n",
            "Requirement already satisfied: packaging>=20.0 in /usr/local/lib/python3.11/dist-packages (from matplotlib->catboost) (24.2)\n",
            "Requirement already satisfied: pillow>=8 in /usr/local/lib/python3.11/dist-packages (from matplotlib->catboost) (11.2.1)\n",
            "Requirement already satisfied: pyparsing>=2.3.1 in /usr/local/lib/python3.11/dist-packages (from matplotlib->catboost) (3.2.3)\n",
            "Requirement already satisfied: tenacity>=6.2.0 in /usr/local/lib/python3.11/dist-packages (from plotly->catboost) (9.1.2)\n",
            "Downloading catboost-1.2.8-cp311-cp311-manylinux2014_x86_64.whl (99.2 MB)\n",
            "\u001b[2K   \u001b[90m━━━━━━━━━━━━━━━━━━━━━━━━━━━━━━━━━━━━━━━━\u001b[0m \u001b[32m99.2/99.2 MB\u001b[0m \u001b[31m8.1 MB/s\u001b[0m eta \u001b[36m0:00:00\u001b[0m\n",
            "\u001b[?25hInstalling collected packages: catboost\n",
            "Successfully installed catboost-1.2.8\n"
          ]
        }
      ]
    },
    {
      "cell_type": "markdown",
      "source": [
        "### **predictor.py**"
      ],
      "metadata": {
        "id": "-jBQU8Dbg1Cb"
      }
    },
    {
      "cell_type": "code",
      "source": [
        "#  Step 4: Create predictor.py\n",
        "predictor_code = '''\n",
        "# predictor.py\n",
        "\n",
        "import joblib\n",
        "import pandas as pd\n",
        "\n",
        "# Load the full pipeline (preprocessing + model)\n",
        "model = joblib.load('/content/mediscan_ai/models/gallstone_model.pkl')\n",
        "\n",
        "def predict_gallstone(lab_results: dict):\n",
        "    \"\"\"\n",
        "    Predict gallstone status based on input lab results.\n",
        "\n",
        "    Parameters:\n",
        "        lab_results (dict): Dictionary of feature_name: value\n",
        "\n",
        "    Returns:\n",
        "        prediction_label (str), probability (float)\n",
        "    \"\"\"\n",
        "    # Convert input dict to DataFrame\n",
        "    input_df = pd.DataFrame([lab_results])  # Single row\n",
        "\n",
        "    # Predict using the full pipeline\n",
        "    #prediction = model.predict(input_df)[0]\n",
        "    #probability = model.predict_proba(input_df)[0][0]  # Probability of \"gallstone\" class\n",
        "\n",
        "    #label = \"Gallstone Detected\" if prediction == 0 else \"No Gallstone Detected\"\n",
        "    prediction = model.predict(input_df)[0]\n",
        "    probas = model.predict_proba(input_df)[0]\n",
        "\n",
        "    if prediction == 0:\n",
        "        label = \"Gallstone Detected\"\n",
        "        probability = probas[0]  # Probability of class 0 (gallstone)\n",
        "    else:\n",
        "        label = \"No Gallstone Detected\"\n",
        "        probability = probas[1]  # Probability of class 1 (no gallstone)\n",
        "\n",
        "    return label, round(probability * 100, 2)  # Return percentage\n",
        "    #return label, probability\n",
        "'''\n",
        "\n",
        "with open(\"/content/mediscan_ai/app/predictor.py\", \"w\") as f:\n",
        "    f.write(predictor_code)\n",
        "\n",
        "print(\"predictor.py created.\")"
      ],
      "metadata": {
        "colab": {
          "base_uri": "https://localhost:8080/"
        },
        "id": "yrYFkIDDg5ky",
        "outputId": "79d823dd-f3ba-4c29-9e91-61492d89a22c"
      },
      "execution_count": 5,
      "outputs": [
        {
          "output_type": "stream",
          "name": "stdout",
          "text": [
            "predictor.py created.\n"
          ]
        }
      ]
    },
    {
      "cell_type": "code",
      "source": [
        "# Step 5: Run Training Script\n",
        "%run /content/mediscan_ai/app/train_model.py"
      ],
      "metadata": {
        "colab": {
          "base_uri": "https://localhost:8080/"
        },
        "id": "7W1dy9rajQri",
        "outputId": "e131b784-8470-453e-a764-f0e169ed2203"
      },
      "execution_count": 6,
      "outputs": [
        {
          "output_type": "stream",
          "name": "stdout",
          "text": [
            "Model pipeline saved successfully.\n"
          ]
        }
      ]
    },
    {
      "cell_type": "code",
      "source": [
        "import sys\n",
        "sys.path.append(\"/content/mediscan_ai\")  # Adjust to your actual path"
      ],
      "metadata": {
        "id": "UlOevsmEiQW7"
      },
      "execution_count": 7,
      "outputs": []
    },
    {
      "cell_type": "code",
      "source": [
        "!pip install -q catboost openpyxl"
      ],
      "metadata": {
        "id": "OMFFRz3c-ibO"
      },
      "execution_count": 9,
      "outputs": []
    },
    {
      "cell_type": "markdown",
      "source": [
        "### **pdf_extractor.py**"
      ],
      "metadata": {
        "id": "fdFlOjG8hM7E"
      }
    },
    {
      "cell_type": "code",
      "source": [
        "!apt-get install poppler-utils -y\n",
        "!apt-get install tesseract-ocr -y\n",
        "!pip install pytesseract pdf2image pillow"
      ],
      "metadata": {
        "colab": {
          "base_uri": "https://localhost:8080/"
        },
        "id": "GYWLekPEY8Af",
        "outputId": "fb6fbcfd-bef5-46e9-840d-86d7e0064696",
        "collapsed": true
      },
      "execution_count": 10,
      "outputs": [
        {
          "output_type": "stream",
          "name": "stdout",
          "text": [
            "Reading package lists... Done\n",
            "Building dependency tree... Done\n",
            "Reading state information... Done\n",
            "The following NEW packages will be installed:\n",
            "  poppler-utils\n",
            "0 upgraded, 1 newly installed, 0 to remove and 35 not upgraded.\n",
            "Need to get 186 kB of archives.\n",
            "After this operation, 697 kB of additional disk space will be used.\n",
            "Get:1 http://archive.ubuntu.com/ubuntu jammy-updates/main amd64 poppler-utils amd64 22.02.0-2ubuntu0.8 [186 kB]\n",
            "Fetched 186 kB in 0s (374 kB/s)\n",
            "Selecting previously unselected package poppler-utils.\n",
            "(Reading database ... 126111 files and directories currently installed.)\n",
            "Preparing to unpack .../poppler-utils_22.02.0-2ubuntu0.8_amd64.deb ...\n",
            "Unpacking poppler-utils (22.02.0-2ubuntu0.8) ...\n",
            "Setting up poppler-utils (22.02.0-2ubuntu0.8) ...\n",
            "Processing triggers for man-db (2.10.2-1) ...\n",
            "Reading package lists... Done\n",
            "Building dependency tree... Done\n",
            "Reading state information... Done\n",
            "tesseract-ocr is already the newest version (4.1.1-2.1build1).\n",
            "0 upgraded, 0 newly installed, 0 to remove and 35 not upgraded.\n",
            "Collecting pytesseract\n",
            "  Downloading pytesseract-0.3.13-py3-none-any.whl.metadata (11 kB)\n",
            "Collecting pdf2image\n",
            "  Downloading pdf2image-1.17.0-py3-none-any.whl.metadata (6.2 kB)\n",
            "Requirement already satisfied: pillow in /usr/local/lib/python3.11/dist-packages (11.2.1)\n",
            "Requirement already satisfied: packaging>=21.3 in /usr/local/lib/python3.11/dist-packages (from pytesseract) (24.2)\n",
            "Downloading pytesseract-0.3.13-py3-none-any.whl (14 kB)\n",
            "Downloading pdf2image-1.17.0-py3-none-any.whl (11 kB)\n",
            "Installing collected packages: pytesseract, pdf2image\n",
            "Successfully installed pdf2image-1.17.0 pytesseract-0.3.13\n"
          ]
        }
      ]
    },
    {
      "cell_type": "code",
      "source": [
        "# Step: Create pdf_extractor.py\n",
        "pdf_extractor_code = '''\n",
        "import re\n",
        "import pytesseract\n",
        "from pdf2image import convert_from_path\n",
        "from PIL import Image\n",
        "\n",
        "def pdf_to_text_via_ocr(pdf_path, dpi=300):\n",
        "    images = convert_from_path(pdf_path, dpi=dpi)\n",
        "    full_text = \"\"\n",
        "    for img in images:\n",
        "        text = pytesseract.image_to_string(img)\n",
        "        text = re.sub(r\"[^\\x00-\\x7F]+\", \" \", text)  # Remove non-ASCII\n",
        "        full_text += text + \"\\n\"\n",
        "    return full_text\n",
        "\n",
        "def extract_lab_report_data(pdf_path):\n",
        "    # Step 1: OCR + Cleaning\n",
        "    text = pdf_to_text_via_ocr(pdf_path)\n",
        "    text = re.sub(r'\\s{2,}', ' ', text)\n",
        "    text = re.sub(r'\\n+', '\\n', text)\n",
        "    text = re.sub(r'(?<=\\w): ([^:\\n]+?)(?= \\w+:)', r': \\1\\n', text)\n",
        "\n",
        "    # Step 2: Regex patterns\n",
        "    patterns = {\n",
        "        'Hospital Name': r'Hospital\\s*:\\s*(.+)',\n",
        "        'Lab Name': r'Lab Name\\s*:\\s*(.+)',\n",
        "        'Patient Name': r'Name\\s*:\\s*(.+)',\n",
        "        'Gender': r'Gender\\s*:\\s*(Male|Female)',\n",
        "        'Age': r'Age\\s*:\\s*(\\d+)',\n",
        "        'Lab Date': r'Date\\s*:\\s*(\\w+ \\d{2}, \\d{4})',\n",
        "        'Comorbidity': r'Comorbidity\\s*:\\s*(\\w+)',\n",
        "        'Diabetes Mellitus (DM)': r'Diabetes Mellitus \\(DM\\)\\s*:\\s*(\\w+)',\n",
        "        'Body Mass Index (BMI)': r'Body Mass Index \\(BMI\\)\\s*:\\s*([\\d.]+)',\n",
        "        'Height (cm)': r'Height\\s*:\\s*(\\d+)',\n",
        "        'Weight (kg)': r'Weight\\s*:\\s*([\\d.]+)',\n",
        "        'Total Body Water (TBW)': r'Total Body Water \\(TBW\\)\\s*:\\s*([\\d.]+)',\n",
        "        'Extracellular Water (ECW)': r'Extracellular Water \\(ECW\\)\\s*:\\s*([\\d.]+)',\n",
        "        'Intracellular Water (ICW)': r'Intracellular Water \\(ICW\\)\\s*:\\s*([\\d.]+)',\n",
        "        'Extracellular Fluid/Total Body Water (ECF/TBW)': r'Extracellular Fluid/Total Body Water \\(ECF/TBW\\)\\s*:\\s*([\\d.]+)',\n",
        "        'Total Body Fat Ratio (TBFR) (%)': r'Total Body Fat Ratio \\(TBFR\\)\\s*:\\s*([\\d.]+)%',\n",
        "        'Lean Mass (%)': r'Lean Mass \\(LM\\)\\s*:\\s*([\\d.]+)%',\n",
        "        'Body Protein Content (%)': r'Body Protein Content\\s*:\\s*([\\d.]+)%',\n",
        "        'Visceral Fat Rating (VFR)': r'Visceral Fat Rating \\(VFR\\)\\s*:\\s*([\\d.]+)',\n",
        "        'Bone Mass (BM)': r'Bone Mass\\s*:\\s*([\\d.]+)\\s*kg',\n",
        "        'Muscle Mass (MM)': r'Muscle Mass \\(MM\\)\\s*:\\s*([\\d.]+)\\s*kg',\n",
        "        'Obesity (%)': r'Obesity\\s*:\\s*([\\d.]+)%',\n",
        "        'Total Fat Content (TFC)': r'Total Fat Content \\(TFC\\)\\s*:\\s*([\\d.]+)',\n",
        "        'Visceral Fat Area (VFA)': r'Visceral Fat Area \\(VFA\\)\\s*:\\s*([\\d.]+)',\n",
        "        'Visceral Muscle Area (VMA)': r'Visceral Muscle Area \\(VMA\\)\\s*:\\s*([\\d.]+)',\n",
        "        'Hepatic Fat Accumulation (HFA)': r'Hepatic Fat Accumulation \\(HFA\\)\\s*:\\s*([\\d.]+)',\n",
        "        'Glucose': r'Glucose\\s*:\\s*([\\d.]+)',\n",
        "        'Total Cholesterol (TC)': r'Total Cholesterol \\(TC\\)\\s*:\\s*([\\d.]+)',\n",
        "        'Low Density Lipoprotein (LDL)': r'Low Density Lipoprotein \\(LDL\\)\\s*:\\s*([\\d.]+)',\n",
        "        'High Density Lipoprotein (HDL)': r'High Density Lipoprotein \\(HDL\\)\\s*:\\s*([\\d.]+)',\n",
        "        'Triglyceride': r'Triglyceride\\s*:\\s*([\\d.]+)',\n",
        "        'Aspartat Aminotransferaz (AST)': r'AST\\s*:\\s*([\\d.]+)',\n",
        "        'Alanin Aminotransferaz (ALT)': r'ALT\\s*:\\s*([\\d.]+)',\n",
        "        'Alkaline Phosphatase (ALP)': r'ALP\\s*:\\s*([\\d.]+)',\n",
        "        'Creatinine': r'Creatinine\\s*:\\s*([\\d.]+)',\n",
        "        'Glomerular Filtration Rate (GFR)': r'GFR\\s*:\\s*([\\d.]+)',\n",
        "        'C-Reactive Protein (CRP)': r'C-Reactive Protein \\(CRP\\)\\s*:\\s*([\\d.]+)',\n",
        "        'Hemoglobin (HGB)': r'Hemoglobin \\(HGB\\)\\s*:\\s*([\\d.]+)',\n",
        "        'Vitamin D': r'Vitamin D\\s*:\\s*([\\d.]+)',\n",
        "    }\n",
        "\n",
        "    # Step 3: Extract values\n",
        "    results = {}\n",
        "    for field, pattern in patterns.items():\n",
        "        match = re.search(r'\\s*' + pattern, text)\n",
        "        results[field] = match.group(1).strip() if match else 'Not found'\n",
        "\n",
        "    return results\n",
        "'''\n",
        "\n",
        "# Write code to file\n",
        "with open(\"/content/mediscan_ai/app/pdf_extractor.py\", \"w\") as f:\n",
        "    f.write(pdf_extractor_code)\n",
        "\n",
        "print(\"pdf_extractor.py created successfully.\")"
      ],
      "metadata": {
        "colab": {
          "base_uri": "https://localhost:8080/"
        },
        "id": "TYfkvK7-XHd-",
        "outputId": "ad31b754-df61-4f17-89ab-79fde864dbd2"
      },
      "execution_count": 11,
      "outputs": [
        {
          "output_type": "stream",
          "name": "stdout",
          "text": [
            "pdf_extractor.py created successfully.\n"
          ]
        }
      ]
    },
    {
      "cell_type": "code",
      "source": [
        "### Test Example 1\n",
        "import sys\n",
        "sys.path.append('/content/mediscan_ai')\n",
        "\n",
        "from app.pdf_extractor import extract_lab_report_data\n",
        "\n",
        "pdf_path = \"/content/Lab Test_1.pdf\"\n",
        "results = extract_lab_report_data(pdf_path)\n",
        "\n",
        "for key, value in results.items():\n",
        "    print(f\"{key}: {value}\")"
      ],
      "metadata": {
        "colab": {
          "base_uri": "https://localhost:8080/"
        },
        "collapsed": true,
        "id": "NnfDQ1Gub-3E",
        "outputId": "51a4e4ae-acec-4a04-c723-2512bde34606"
      },
      "execution_count": 14,
      "outputs": [
        {
          "output_type": "stream",
          "name": "stdout",
          "text": [
            "Hospital Name: Alexandria General Hospital\n",
            "Lab Name: Gallstone Diagnosis\n",
            "Patient Name: Mohamed Ali\n",
            "Gender: Male\n",
            "Age: 38\n",
            "Lab Date: June 09, 2025\n",
            "Comorbidity: No\n",
            "Diabetes Mellitus (DM): No\n",
            "Body Mass Index (BMI): 23.5\n",
            "Height (cm): 171\n",
            "Weight (kg): 68.6\n",
            "Total Body Water (TBW): 39.5\n",
            "Extracellular Water (ECW): 16.6\n",
            "Intracellular Water (ICW): 22.9\n",
            "Extracellular Fluid/Total Body Water (ECF/TBW): 42\n",
            "Total Body Fat Ratio (TBFR) (%): 19.2\n",
            "Lean Mass (%): 80.76\n",
            "Body Protein Content (%): 17.28\n",
            "Visceral Fat Rating (VFR): 6\n",
            "Bone Mass (BM): 2.8\n",
            "Muscle Mass (MM): 52.6\n",
            "Obesity (%): 6.7\n",
            "Total Fat Content (TFC): 13.2\n",
            "Visceral Fat Area (VFA): 8.2\n",
            "Visceral Muscle Area (VMA): 28.8\n",
            "Hepatic Fat Accumulation (HFA): 0\n",
            "Glucose: 93\n",
            "Total Cholesterol (TC): 239\n",
            "Low Density Lipoprotein (LDL): 169\n",
            "High Density Lipoprotein (HDL): 43\n",
            "Triglyceride: 129\n",
            "Aspartat Aminotransferaz (AST): 19\n",
            "Alanin Aminotransferaz (ALT): 34\n",
            "Alkaline Phosphatase (ALP): 75\n",
            "Creatinine: 0.91\n",
            "Glomerular Filtration Rate (GFR): 110.63\n",
            "C-Reactive Protein (CRP): 0.0\n",
            "Hemoglobin (HGB): 16.6\n",
            "Vitamin D: 15.6\n"
          ]
        }
      ]
    },
    {
      "cell_type": "code",
      "source": [
        "print(results)"
      ],
      "metadata": {
        "colab": {
          "base_uri": "https://localhost:8080/"
        },
        "id": "NhcVTSPzXHVx",
        "outputId": "2391f18a-197f-464a-f285-fb67ecfaf8ed"
      },
      "execution_count": 15,
      "outputs": [
        {
          "output_type": "stream",
          "name": "stdout",
          "text": [
            "{'Hospital Name': 'Alexandria General Hospital', 'Lab Name': 'Gallstone Diagnosis', 'Patient Name': 'Mohamed Ali', 'Gender': 'Male', 'Age': '38', 'Lab Date': 'June 09, 2025', 'Comorbidity': 'No', 'Diabetes Mellitus (DM)': 'No', 'Body Mass Index (BMI)': '23.5', 'Height (cm)': '171', 'Weight (kg)': '68.6', 'Total Body Water (TBW)': '39.5', 'Extracellular Water (ECW)': '16.6', 'Intracellular Water (ICW)': '22.9', 'Extracellular Fluid/Total Body Water (ECF/TBW)': '42', 'Total Body Fat Ratio (TBFR) (%)': '19.2', 'Lean Mass (%)': '80.76', 'Body Protein Content (%)': '17.28', 'Visceral Fat Rating (VFR)': '6', 'Bone Mass (BM)': '2.8', 'Muscle Mass (MM)': '52.6', 'Obesity (%)': '6.7', 'Total Fat Content (TFC)': '13.2', 'Visceral Fat Area (VFA)': '8.2', 'Visceral Muscle Area (VMA)': '28.8', 'Hepatic Fat Accumulation (HFA)': '0', 'Glucose': '93', 'Total Cholesterol (TC)': '239', 'Low Density Lipoprotein (LDL)': '169', 'High Density Lipoprotein (HDL)': '43', 'Triglyceride': '129', 'Aspartat Aminotransferaz (AST)': '19', 'Alanin Aminotransferaz (ALT)': '34', 'Alkaline Phosphatase (ALP)': '75', 'Creatinine': '0.91', 'Glomerular Filtration Rate (GFR)': '110.63', 'C-Reactive Protein (CRP)': '0.0', 'Hemoglobin (HGB)': '16.6', 'Vitamin D': '15.6'}\n"
          ]
        }
      ]
    },
    {
      "cell_type": "markdown",
      "source": [
        "### **Combining pdf_extractor.py with passing data to the model for prediction**"
      ],
      "metadata": {
        "id": "NdDcmXNtJ9fB"
      }
    },
    {
      "cell_type": "code",
      "source": [
        "# pdf_extractor.py\n",
        "# Step: Create pdf_extractor.py\n",
        "pdf_extractor_code = '''\n",
        "import re\n",
        "import pytesseract\n",
        "import pandas as pd\n",
        "from pdf2image import convert_from_path\n",
        "from PIL import Image\n",
        "\n",
        "# ----------------------------\n",
        "# Constants (put at the top)\n",
        "# ----------------------------\n",
        "MODEL_FEATURES = [\n",
        "    'Age', 'Gender', 'Comorbidity', 'Diabetes Mellitus (DM)', 'Height (cm)', 'Weight (kg)',\n",
        "    'Body Mass Index (BMI)', 'Total Body Water (TBW)', 'Extracellular Water (ECW)',\n",
        "    'Intracellular Water (ICW)', 'Extracellular Fluid/Total Body Water (ECF/TBW)',\n",
        "    'Total Body Fat Ratio (TBFR) (%)', 'Lean Mass (%)', 'Body Protein Content (%)',\n",
        "    'Visceral Fat Rating (VFR)', 'Bone Mass (BM)', 'Muscle Mass (MM)', 'Obesity (%)',\n",
        "    'Total Fat Content (TFC)', 'Visceral Fat Area (VFA)', 'Visceral Muscle Area (VMA)',\n",
        "    'Hepatic Fat Accumulation (HFA)', 'Glucose', 'Total Cholesterol (TC)',\n",
        "    'Low Density Lipoprotein (LDL)', 'High Density Lipoprotein (HDL)', 'Triglyceride',\n",
        "    'Aspartat Aminotransferaz (AST)', 'Alanin Aminotransferaz (ALT)',\n",
        "    'Alkaline Phosphatase (ALP)', 'Creatinine', 'Glomerular Filtration Rate (GFR)',\n",
        "    'C-Reactive Protein (CRP)', 'Hemoglobin (HGB)', 'Vitamin D'\n",
        "]\n",
        "\n",
        "gender_map = {\"Male\": 1, \"Female\": 0}\n",
        "yes_no_map = {\"Yes\": 1, \"No\": 0}\n",
        "\n",
        "# -------------------------------------\n",
        "# Function to prepare input for model\n",
        "# -------------------------------------\n",
        "def prepare_input_for_model(extracted_data: dict):\n",
        "    gender = gender_map.get(extracted_data.get(\"Gender\", \"\"), 0)\n",
        "    comorbidity = yes_no_map.get(extracted_data.get(\"Comorbidity\", \"\"), 0)\n",
        "    diabetes = yes_no_map.get(extracted_data.get(\"Diabetes Mellitus (DM)\", \"\"), 0)\n",
        "\n",
        "    model_input = {\n",
        "        'Age': float(extracted_data.get('Age', 0)),\n",
        "        'Gender': gender,\n",
        "        'Comorbidity': comorbidity,\n",
        "        'Diabetes Mellitus (DM)': diabetes,\n",
        "        'Height (cm)': float(extracted_data.get('Height (cm)', 0)),\n",
        "        'Weight (kg)': float(extracted_data.get('Weight (kg)', 0)),\n",
        "        'Body Mass Index (BMI)': float(extracted_data.get('Body Mass Index (BMI)', 0)),\n",
        "        'Total Body Water (TBW)': float(extracted_data.get('Total Body Water (TBW)', 0)),\n",
        "        'Extracellular Water (ECW)': float(extracted_data.get('Extracellular Water (ECW)', 0)),\n",
        "        'Intracellular Water (ICW)': float(extracted_data.get('Intracellular Water (ICW)', 0)),\n",
        "        'Extracellular Fluid/Total Body Water (ECF/TBW)': float(extracted_data.get('Extracellular Fluid/Total Body Water (ECF/TBW)', 0)),\n",
        "        'Total Body Fat Ratio (TBFR) (%)': float(extracted_data.get('Total Body Fat Ratio (TBFR) (%)', 0)),\n",
        "        'Lean Mass (%)': float(extracted_data.get('Lean Mass (%)', 0)),\n",
        "        'Body Protein Content (%)': float(extracted_data.get('Body Protein Content (%)', 0)),\n",
        "        'Visceral Fat Rating (VFR)': float(extracted_data.get('Visceral Fat Rating (VFR)', 0)),\n",
        "        'Bone Mass (BM)': float(extracted_data.get('Bone Mass (BM)', 0)),\n",
        "        'Muscle Mass (MM)': float(extracted_data.get('Muscle Mass (MM)', 0)),\n",
        "        'Obesity (%)': float(extracted_data.get('Obesity (%)', 0)),\n",
        "        'Total Fat Content (TFC)': float(extracted_data.get('Total Fat Content (TFC)', 0)),\n",
        "        'Visceral Fat Area (VFA)': float(extracted_data.get('Visceral Fat Area (VFA)', 0)),\n",
        "        'Visceral Muscle Area (VMA)': float(extracted_data.get('Visceral Muscle Area (VMA)', 0)),\n",
        "        'Hepatic Fat Accumulation (HFA)': float(extracted_data.get('Hepatic Fat Accumulation (HFA)', 0)),\n",
        "        'Glucose': float(extracted_data.get('Glucose', 0)),\n",
        "        'Total Cholesterol (TC)': float(extracted_data.get('Total Cholesterol (TC)', 0)),\n",
        "        'Low Density Lipoprotein (LDL)': float(extracted_data.get('Low Density Lipoprotein (LDL)', 0)),\n",
        "        'High Density Lipoprotein (HDL)': float(extracted_data.get('High Density Lipoprotein (HDL)', 0)),\n",
        "        'Triglyceride': float(extracted_data.get('Triglyceride', 0)),\n",
        "        'Aspartat Aminotransferaz (AST)': float(extracted_data.get('Aspartat Aminotransferaz (AST)', 0)),\n",
        "        'Alanin Aminotransferaz (ALT)': float(extracted_data.get('Alanin Aminotransferaz (ALT)', 0)),\n",
        "        'Alkaline Phosphatase (ALP)': float(extracted_data.get('Alkaline Phosphatase (ALP)', 0)),\n",
        "        'Creatinine': float(extracted_data.get('Creatinine', 0)),\n",
        "        'Glomerular Filtration Rate (GFR)': float(extracted_data.get('Glomerular Filtration Rate (GFR)', 0)),\n",
        "        'C-Reactive Protein (CRP)': float(extracted_data.get('C-Reactive Protein (CRP)', 0)),\n",
        "        'Hemoglobin (HGB)': float(extracted_data.get('Hemoglobin (HGB)', 0)),\n",
        "        'Vitamin D': float(extracted_data.get('Vitamin D', 0)),\n",
        "    }\n",
        "\n",
        "    return pd.DataFrame([model_input])\n",
        "\n",
        "# --------------------------\n",
        "# OCR and Extraction Logic\n",
        "# --------------------------\n",
        "def pdf_to_text_via_ocr(pdf_path, dpi=300):\n",
        "    images = convert_from_path(pdf_path, dpi=dpi)\n",
        "    full_text = \"\"\n",
        "    for img in images:\n",
        "        text = pytesseract.image_to_string(img)\n",
        "        text = re.sub(r\"[^\\x00-\\x7F]+\", \" \", text)  # Remove non-ASCII\n",
        "        full_text += text + \"\\n\"\n",
        "    return full_text\n",
        "\n",
        "def extract_lab_report_data(pdf_path):\n",
        "    # Step 1: OCR + Cleaning\n",
        "    text = pdf_to_text_via_ocr(pdf_path)\n",
        "    text = re.sub(r'\\s{2,}', ' ', text)\n",
        "    text = re.sub(r'\\n+', '\\n', text)\n",
        "    text = re.sub(r'(?<=\\w): ([^:\\n]+?)(?= \\w+:)', r': \\1\\n', text)\n",
        "\n",
        "    # Step 2: Regex patterns (truncated for brevity; insert full dictionary)\n",
        "    patterns = {\n",
        "        'Hospital Name': r'Hospital\\s*:\\s*(.+)',\n",
        "        'Lab Name': r'Lab Name\\s*:\\s*(.+)',\n",
        "        'Patient Name': r'Name\\s*:\\s*(.+)',\n",
        "        'Gender': r'Gender\\s*:\\s*(Male|Female)',\n",
        "        'Age': r'Age\\s*:\\s*(\\d+)',\n",
        "        'Lab Date': r'Date\\s*:\\s*(\\w+ \\d{2}, \\d{4})',\n",
        "        'Comorbidity': r'Comorbidity\\s*:\\s*(\\w+)',\n",
        "        'Diabetes Mellitus (DM)': r'Diabetes Mellitus \\(DM\\)\\s*:\\s*(\\w+)',\n",
        "        'Body Mass Index (BMI)': r'Body Mass Index \\(BMI\\)\\s*:\\s*([\\d.]+)',\n",
        "        'Height (cm)': r'Height\\s*:\\s*(\\d+)',\n",
        "        'Weight (kg)': r'Weight\\s*:\\s*([\\d.]+)',\n",
        "        'Total Body Water (TBW)': r'Total Body Water \\(TBW\\)\\s*:\\s*([\\d.]+)',\n",
        "        'Extracellular Water (ECW)': r'Extracellular Water \\(ECW\\)\\s*:\\s*([\\d.]+)',\n",
        "        'Intracellular Water (ICW)': r'Intracellular Water \\(ICW\\)\\s*:\\s*([\\d.]+)',\n",
        "        'Extracellular Fluid/Total Body Water (ECF/TBW)': r'Extracellular Fluid/Total Body Water \\(ECF/TBW\\)\\s*:\\s*([\\d.]+)',\n",
        "        'Total Body Fat Ratio (TBFR) (%)': r'Total Body Fat Ratio \\(TBFR\\)\\s*:\\s*([\\d.]+)%',\n",
        "        'Lean Mass (%)': r'Lean Mass \\(LM\\)\\s*:\\s*([\\d.]+)%',\n",
        "        'Body Protein Content (%)': r'Body Protein Content\\s*:\\s*([\\d.]+)%',\n",
        "        'Visceral Fat Rating (VFR)': r'Visceral Fat Rating \\(VFR\\)\\s*:\\s*([\\d.]+)',\n",
        "        'Bone Mass (BM)': r'Bone Mass\\s*:\\s*([\\d.]+)\\s*kg',\n",
        "        'Muscle Mass (MM)': r'Muscle Mass \\(MM\\)\\s*:\\s*([\\d.]+)\\s*kg',\n",
        "        'Obesity (%)': r'Obesity\\s*:\\s*([\\d.]+)%',\n",
        "        'Total Fat Content (TFC)': r'Total Fat Content \\(TFC\\)\\s*:\\s*([\\d.]+)',\n",
        "        'Visceral Fat Area (VFA)': r'Visceral Fat Area \\(VFA\\)\\s*:\\s*([\\d.]+)',\n",
        "        'Visceral Muscle Area (VMA)': r'Visceral Muscle Area \\(VMA\\)\\s*:\\s*([\\d.]+)',\n",
        "        'Hepatic Fat Accumulation (HFA)': r'Hepatic Fat Accumulation \\(HFA\\)\\s*:\\s*([\\d.]+)',\n",
        "        'Glucose': r'Glucose\\s*:\\s*([\\d.]+)',\n",
        "        'Total Cholesterol (TC)': r'Total Cholesterol \\(TC\\)\\s*:\\s*([\\d.]+)',\n",
        "        'Low Density Lipoprotein (LDL)': r'Low Density Lipoprotein \\(LDL\\)\\s*:\\s*([\\d.]+)',\n",
        "        'High Density Lipoprotein (HDL)': r'High Density Lipoprotein \\(HDL\\)\\s*:\\s*([\\d.]+)',\n",
        "        'Triglyceride': r'Triglyceride\\s*:\\s*([\\d.]+)',\n",
        "        'Aspartat Aminotransferaz (AST)': r'AST\\s*:\\s*([\\d.]+)',\n",
        "        'Alanin Aminotransferaz (ALT)': r'ALT\\s*:\\s*([\\d.]+)',\n",
        "        'Alkaline Phosphatase (ALP)': r'ALP\\s*:\\s*([\\d.]+)',\n",
        "        'Creatinine': r'Creatinine\\s*:\\s*([\\d.]+)',\n",
        "        'Glomerular Filtration Rate (GFR)': r'GFR\\s*:\\s*([\\d.]+)',\n",
        "        'C-Reactive Protein (CRP)': r'C-Reactive Protein \\(CRP\\)\\s*:\\s*([\\d.]+)',\n",
        "        'Hemoglobin (HGB)': r'Hemoglobin \\(HGB\\)\\s*:\\s*([\\d.]+)',\n",
        "        'Vitamin D': r'Vitamin D\\s*:\\s*([\\d.]+)',\n",
        "    }\n",
        "\n",
        "    extracted_data = {}\n",
        "    for key, pattern in patterns.items():\n",
        "        match = re.search(pattern, text)\n",
        "        if match:\n",
        "            extracted_data[key] = match.group(1).strip()\n",
        "\n",
        "    return extracted_data\n",
        "'''\n",
        "\n",
        "# Write code to file\n",
        "with open(\"/content/mediscan_ai/app/pdf_extractor.py\", \"w\") as f:\n",
        "    f.write(pdf_extractor_code)\n",
        "\n",
        "print(\"pdf_extractor.py created successfully.\")"
      ],
      "metadata": {
        "colab": {
          "base_uri": "https://localhost:8080/"
        },
        "id": "oaZfR3zYKF4q",
        "outputId": "33dc8730-48b5-483b-d387-a080ea5e2e16"
      },
      "execution_count": 18,
      "outputs": [
        {
          "output_type": "stream",
          "name": "stdout",
          "text": [
            "pdf_extractor.py created successfully.\n"
          ]
        }
      ]
    },
    {
      "cell_type": "markdown",
      "source": [
        "### **report_generator.py**"
      ],
      "metadata": {
        "id": "3S-ej8HXQQXM"
      }
    },
    {
      "cell_type": "code",
      "source": [
        "report_generator_code = '''\n",
        "from fpdf import FPDF\n",
        "\n",
        "def generate_pdf_report(label, probability, patient_info, output_path):\n",
        "    pdf = FPDF()\n",
        "    pdf.add_page()\n",
        "    pdf.set_font(\"Arial\", size=12)\n",
        "\n",
        "    pdf.cell(200, 10, txt=\"Gallstone Disease Prediction Report\", ln=True, align=\"C\")\n",
        "    pdf.ln(10)\n",
        "\n",
        "    pdf.set_font(\"Arial\", size=10)\n",
        "    for key, value in patient_info.items():\n",
        "        pdf.cell(200, 10, txt=f\"{key}: {value}\", ln=True)\n",
        "\n",
        "    pdf.ln(10)\n",
        "    pdf.set_font(\"Arial\", size=12)\n",
        "    pdf.cell(200, 10, txt=f\"Prediction: {label}\", ln=True)\n",
        "    pdf.cell(200, 10, txt=f\"Probability: {probability:.2f}%\", ln=True)\n",
        "\n",
        "    pdf.output(output_path)\n",
        "'''\n",
        "#  Write code to file\n",
        "with open(\"/content/mediscan_ai/app/report_generator.py\", \"w\") as f:\n",
        "    f.write(report_generator_code)\n",
        "\n",
        "print(\"report_generator.py created successfully.\")"
      ],
      "metadata": {
        "id": "gCbt294XFuOn",
        "outputId": "3a012c3a-835d-4846-de1b-b3b9eeb5e93d",
        "colab": {
          "base_uri": "https://localhost:8080/"
        }
      },
      "execution_count": 28,
      "outputs": [
        {
          "output_type": "stream",
          "name": "stdout",
          "text": [
            "report_generator.py created successfully.\n"
          ]
        }
      ]
    },
    {
      "cell_type": "markdown",
      "source": [
        "### **Final Code with Uploading PDF**"
      ],
      "metadata": {
        "id": "qzig4aTMK6Nc"
      }
    },
    {
      "cell_type": "code",
      "source": [
        "!pip install fpdf"
      ],
      "metadata": {
        "colab": {
          "base_uri": "https://localhost:8080/"
        },
        "id": "MK6daJAbQ7sw",
        "outputId": "cbfa9957-2ac5-490b-b40e-434cc257e218"
      },
      "execution_count": 34,
      "outputs": [
        {
          "output_type": "stream",
          "name": "stdout",
          "text": [
            "Requirement already satisfied: fpdf in /usr/local/lib/python3.11/dist-packages (1.7.2)\n"
          ]
        }
      ]
    },
    {
      "cell_type": "code",
      "source": [
        "import pandas as pd\n",
        "from pdf_extractor import extract_lab_report_data, prepare_input_for_model\n",
        "from predictor import predict_gallstone\n",
        "from report_generator import generate_pdf_report\n",
        "\n",
        "#  For file upload (Google Colab or Jupyter Notebook)\n",
        "from google.colab import files\n",
        "uploaded = files.upload()\n",
        "\n",
        "# Get the uploaded file path\n",
        "pdf_path = list(uploaded.keys())[0]\n",
        "\n",
        "def process_pdf_and_generate_report(pdf_path, output_report_path=\"diagnosis_report.pdf\"):\n",
        "    raw_data = extract_lab_report_data(pdf_path)\n",
        "    cleaned_data = prepare_input_for_model(raw_data)\n",
        "\n",
        "    if isinstance(cleaned_data.iloc[0, 0], pd.DataFrame):\n",
        "        cleaned_data = cleaned_data.iloc[0, 0]\n",
        "\n",
        "    if isinstance(cleaned_data, pd.DataFrame) and cleaned_data.shape == (1, 1):\n",
        "        cleaned_data = cleaned_data.iloc[0, 0]\n",
        "        cleaned_data = pd.DataFrame([cleaned_data])\n",
        "\n",
        "    column_mapping = {\n",
        "        'Height (cm)': 'Height',\n",
        "        'Weight (kg)': 'Weight',\n",
        "        'Lean Mass (%)': 'Lean Mass (LM) (%)',\n",
        "        'Body Protein Content (%)': 'Body Protein Content (Protein) (%)',\n",
        "        'Visceral Muscle Area (VMA)': 'Visceral Muscle Area (VMA) (Kg)'\n",
        "    }\n",
        "    cleaned_data = cleaned_data.rename(columns=column_mapping)\n",
        "\n",
        "    expected_columns = [\n",
        "        'Age', 'Gender', 'Comorbidity', 'Coronary Artery Disease (CAD)', 'Hypothyroidism',\n",
        "        'Hyperlipidemia', 'Diabetes Mellitus (DM)', 'Height', 'Weight', 'Body Mass Index (BMI)',\n",
        "        'Total Body Water (TBW)', 'Extracellular Water (ECW)', 'Intracellular Water (ICW)',\n",
        "        'Extracellular Fluid/Total Body Water (ECF/TBW)', 'Total Body Fat Ratio (TBFR) (%)',\n",
        "        'Lean Mass (LM) (%)', 'Body Protein Content (Protein) (%)', 'Visceral Fat Rating (VFR)',\n",
        "        'Bone Mass (BM)', 'Muscle Mass (MM)', 'Obesity (%)', 'Total Fat Content (TFC)',\n",
        "        'Visceral Fat Area (VFA)', 'Visceral Muscle Area (VMA) (Kg)', 'Hepatic Fat Accumulation (HFA)',\n",
        "        'Glucose', 'Total Cholesterol (TC)', 'Low Density Lipoprotein (LDL)',\n",
        "        'High Density Lipoprotein (HDL)', 'Triglyceride', 'Aspartat Aminotransferaz (AST)',\n",
        "        'Alanin Aminotransferaz (ALT)', 'Alkaline Phosphatase (ALP)', 'Creatinine',\n",
        "        'Glomerular Filtration Rate (GFR)', 'C-Reactive Protein (CRP)', 'Hemoglobin (HGB)',\n",
        "        'Vitamin D'\n",
        "    ]\n",
        "    for col in expected_columns:\n",
        "        if col not in cleaned_data.columns:\n",
        "            cleaned_data[col] = 0\n",
        "\n",
        "    cleaned_data = cleaned_data[expected_columns]\n",
        "\n",
        "    input_dict = cleaned_data.iloc[0].to_dict()\n",
        "    label, probability = predict_gallstone(input_dict)\n",
        "\n",
        "    patient_info = {\n",
        "        \"Patient Name\": raw_data.get(\"Patient Name\", \"Unknown\"),\n",
        "        \"Gender\": raw_data.get(\"Gender\", \"Unknown\"),\n",
        "        \"Age\": raw_data.get(\"Age\", \"Unknown\"),\n",
        "        \"Hospital Name\": raw_data.get(\"Hospital Name\", \"Unknown\"),\n",
        "        \"Lab Name\": raw_data.get(\"Lab Name\", \"Unknown\"),\n",
        "        \"Lab Date\": raw_data.get(\"Lab Date\", \"Unknown\")\n",
        "    }\n",
        "\n",
        "    generate_pdf_report(label, probability, patient_info, output_report_path)\n",
        "\n",
        "    print(f\"Prediction: {label}\")\n",
        "    print(f\"Probability: {probability:.2f}%\")\n",
        "    print(f\"Report generated at: {output_report_path}\")\n",
        "\n",
        "\n",
        "# Call the function with uploaded file\n",
        "process_pdf_and_generate_report(pdf_path)"
      ],
      "metadata": {
        "id": "22CVa-t7JPz3",
        "outputId": "14781019-f954-4dd3-fbe9-24066b9ee9b1",
        "colab": {
          "base_uri": "https://localhost:8080/",
          "height": 123
        }
      },
      "execution_count": 35,
      "outputs": [
        {
          "output_type": "display_data",
          "data": {
            "text/plain": [
              "<IPython.core.display.HTML object>"
            ],
            "text/html": [
              "\n",
              "     <input type=\"file\" id=\"files-35c9890f-3cb8-464f-8d31-394a33e1d547\" name=\"files[]\" multiple disabled\n",
              "        style=\"border:none\" />\n",
              "     <output id=\"result-35c9890f-3cb8-464f-8d31-394a33e1d547\">\n",
              "      Upload widget is only available when the cell has been executed in the\n",
              "      current browser session. Please rerun this cell to enable.\n",
              "      </output>\n",
              "      <script>// Copyright 2017 Google LLC\n",
              "//\n",
              "// Licensed under the Apache License, Version 2.0 (the \"License\");\n",
              "// you may not use this file except in compliance with the License.\n",
              "// You may obtain a copy of the License at\n",
              "//\n",
              "//      http://www.apache.org/licenses/LICENSE-2.0\n",
              "//\n",
              "// Unless required by applicable law or agreed to in writing, software\n",
              "// distributed under the License is distributed on an \"AS IS\" BASIS,\n",
              "// WITHOUT WARRANTIES OR CONDITIONS OF ANY KIND, either express or implied.\n",
              "// See the License for the specific language governing permissions and\n",
              "// limitations under the License.\n",
              "\n",
              "/**\n",
              " * @fileoverview Helpers for google.colab Python module.\n",
              " */\n",
              "(function(scope) {\n",
              "function span(text, styleAttributes = {}) {\n",
              "  const element = document.createElement('span');\n",
              "  element.textContent = text;\n",
              "  for (const key of Object.keys(styleAttributes)) {\n",
              "    element.style[key] = styleAttributes[key];\n",
              "  }\n",
              "  return element;\n",
              "}\n",
              "\n",
              "// Max number of bytes which will be uploaded at a time.\n",
              "const MAX_PAYLOAD_SIZE = 100 * 1024;\n",
              "\n",
              "function _uploadFiles(inputId, outputId) {\n",
              "  const steps = uploadFilesStep(inputId, outputId);\n",
              "  const outputElement = document.getElementById(outputId);\n",
              "  // Cache steps on the outputElement to make it available for the next call\n",
              "  // to uploadFilesContinue from Python.\n",
              "  outputElement.steps = steps;\n",
              "\n",
              "  return _uploadFilesContinue(outputId);\n",
              "}\n",
              "\n",
              "// This is roughly an async generator (not supported in the browser yet),\n",
              "// where there are multiple asynchronous steps and the Python side is going\n",
              "// to poll for completion of each step.\n",
              "// This uses a Promise to block the python side on completion of each step,\n",
              "// then passes the result of the previous step as the input to the next step.\n",
              "function _uploadFilesContinue(outputId) {\n",
              "  const outputElement = document.getElementById(outputId);\n",
              "  const steps = outputElement.steps;\n",
              "\n",
              "  const next = steps.next(outputElement.lastPromiseValue);\n",
              "  return Promise.resolve(next.value.promise).then((value) => {\n",
              "    // Cache the last promise value to make it available to the next\n",
              "    // step of the generator.\n",
              "    outputElement.lastPromiseValue = value;\n",
              "    return next.value.response;\n",
              "  });\n",
              "}\n",
              "\n",
              "/**\n",
              " * Generator function which is called between each async step of the upload\n",
              " * process.\n",
              " * @param {string} inputId Element ID of the input file picker element.\n",
              " * @param {string} outputId Element ID of the output display.\n",
              " * @return {!Iterable<!Object>} Iterable of next steps.\n",
              " */\n",
              "function* uploadFilesStep(inputId, outputId) {\n",
              "  const inputElement = document.getElementById(inputId);\n",
              "  inputElement.disabled = false;\n",
              "\n",
              "  const outputElement = document.getElementById(outputId);\n",
              "  outputElement.innerHTML = '';\n",
              "\n",
              "  const pickedPromise = new Promise((resolve) => {\n",
              "    inputElement.addEventListener('change', (e) => {\n",
              "      resolve(e.target.files);\n",
              "    });\n",
              "  });\n",
              "\n",
              "  const cancel = document.createElement('button');\n",
              "  inputElement.parentElement.appendChild(cancel);\n",
              "  cancel.textContent = 'Cancel upload';\n",
              "  const cancelPromise = new Promise((resolve) => {\n",
              "    cancel.onclick = () => {\n",
              "      resolve(null);\n",
              "    };\n",
              "  });\n",
              "\n",
              "  // Wait for the user to pick the files.\n",
              "  const files = yield {\n",
              "    promise: Promise.race([pickedPromise, cancelPromise]),\n",
              "    response: {\n",
              "      action: 'starting',\n",
              "    }\n",
              "  };\n",
              "\n",
              "  cancel.remove();\n",
              "\n",
              "  // Disable the input element since further picks are not allowed.\n",
              "  inputElement.disabled = true;\n",
              "\n",
              "  if (!files) {\n",
              "    return {\n",
              "      response: {\n",
              "        action: 'complete',\n",
              "      }\n",
              "    };\n",
              "  }\n",
              "\n",
              "  for (const file of files) {\n",
              "    const li = document.createElement('li');\n",
              "    li.append(span(file.name, {fontWeight: 'bold'}));\n",
              "    li.append(span(\n",
              "        `(${file.type || 'n/a'}) - ${file.size} bytes, ` +\n",
              "        `last modified: ${\n",
              "            file.lastModifiedDate ? file.lastModifiedDate.toLocaleDateString() :\n",
              "                                    'n/a'} - `));\n",
              "    const percent = span('0% done');\n",
              "    li.appendChild(percent);\n",
              "\n",
              "    outputElement.appendChild(li);\n",
              "\n",
              "    const fileDataPromise = new Promise((resolve) => {\n",
              "      const reader = new FileReader();\n",
              "      reader.onload = (e) => {\n",
              "        resolve(e.target.result);\n",
              "      };\n",
              "      reader.readAsArrayBuffer(file);\n",
              "    });\n",
              "    // Wait for the data to be ready.\n",
              "    let fileData = yield {\n",
              "      promise: fileDataPromise,\n",
              "      response: {\n",
              "        action: 'continue',\n",
              "      }\n",
              "    };\n",
              "\n",
              "    // Use a chunked sending to avoid message size limits. See b/62115660.\n",
              "    let position = 0;\n",
              "    do {\n",
              "      const length = Math.min(fileData.byteLength - position, MAX_PAYLOAD_SIZE);\n",
              "      const chunk = new Uint8Array(fileData, position, length);\n",
              "      position += length;\n",
              "\n",
              "      const base64 = btoa(String.fromCharCode.apply(null, chunk));\n",
              "      yield {\n",
              "        response: {\n",
              "          action: 'append',\n",
              "          file: file.name,\n",
              "          data: base64,\n",
              "        },\n",
              "      };\n",
              "\n",
              "      let percentDone = fileData.byteLength === 0 ?\n",
              "          100 :\n",
              "          Math.round((position / fileData.byteLength) * 100);\n",
              "      percent.textContent = `${percentDone}% done`;\n",
              "\n",
              "    } while (position < fileData.byteLength);\n",
              "  }\n",
              "\n",
              "  // All done.\n",
              "  yield {\n",
              "    response: {\n",
              "      action: 'complete',\n",
              "    }\n",
              "  };\n",
              "}\n",
              "\n",
              "scope.google = scope.google || {};\n",
              "scope.google.colab = scope.google.colab || {};\n",
              "scope.google.colab._files = {\n",
              "  _uploadFiles,\n",
              "  _uploadFilesContinue,\n",
              "};\n",
              "})(self);\n",
              "</script> "
            ]
          },
          "metadata": {}
        },
        {
          "output_type": "stream",
          "name": "stdout",
          "text": [
            "Saving Lab Test_2.pdf to Lab Test_2 (3).pdf\n",
            "Prediction: Gallstone Detected\n",
            "Probability: 64.96%\n",
            "Report generated at: diagnosis_report.pdf\n"
          ]
        }
      ]
    }
  ]
}
